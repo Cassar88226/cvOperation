{
 "cells": [
  {
   "cell_type": "markdown",
   "metadata": {},
   "source": [
    "Import the library"
   ]
  },
  {
   "cell_type": "code",
   "execution_count": 19,
   "metadata": {},
   "outputs": [],
   "source": [
    "import os\n",
    "import cv2\n",
    "import math\n",
    "import skimage\n",
    "import skimage.data\n",
    "import skimage.morphology\n",
    "import skimage.filters as skfilters\n",
    "from skimage.viewer import ImageViewer\n",
    "from skimage import exposure\n",
    "from skimage.morphology import disk, dilation\n",
    "from skimage.filters.rank import mean\n",
    "\n",
    "from scipy import ndimage\n",
    "from scipy.signal import convolve2d\n",
    "from scipy import misc\n",
    "import numpy as np"
   ]
  },
  {
   "cell_type": "markdown",
   "metadata": {},
   "source": [
    "define function mapmm"
   ]
  },
  {
   "cell_type": "code",
   "execution_count": 20,
   "metadata": {},
   "outputs": [],
   "source": [
    "def mapmm(image):\n",
    "    # Equalization\n",
    "    fimage = skimage.img_as_float(image)\n",
    "    mina = 0.0\n",
    "    maxa = 1.0\n",
    "    minx = np.amin(fimage)\n",
    "    maxx = np.amax(fimage)\n",
    "    \n",
    "    fimage = (fimage - minx) / (maxx-minx) * (maxa-mina) + mina\n",
    "\n",
    "    return fimage\n"
   ]
  },
  {
   "cell_type": "markdown",
   "metadata": {},
   "source": [
    "1: define functioin imblurgauss"
   ]
  },
  {
   "cell_type": "code",
   "execution_count": 21,
   "metadata": {},
   "outputs": [],
   "source": [
    "def imblurgauss(image, s):\n",
    "    blurgauss = skfilters.gaussian(image, sigma=s,mode = 'nearest',truncate=2.0, multichannel=True)\n",
    "    return blurgauss"
   ]
  },
  {
   "cell_type": "markdown",
   "metadata": {},
   "source": [
    "2: define function imblurlens"
   ]
  },
  {
   "cell_type": "code",
   "execution_count": 111,
   "metadata": {},
   "outputs": [
    {
     "ename": "SyntaxError",
     "evalue": "invalid syntax (<ipython-input-111-171dff59ae58>, line 18)",
     "output_type": "error",
     "traceback": [
      "\u001b[1;36m  File \u001b[1;32m\"<ipython-input-111-171dff59ae58>\"\u001b[1;36m, line \u001b[1;32m18\u001b[0m\n\u001b[1;33m    m2 = (rad**2 >  (maxxy-0.5)**2 + (minxy+0.5)**2).*(minxy+0.5) + (rad**2 <= (maxxy-0.5)**2 + (minxy+0.5)**2).* sqrt(rad**2 - (maxxy - 0.5)**2)\u001b[0m\n\u001b[1;37m                                                     ^\u001b[0m\n\u001b[1;31mSyntaxError\u001b[0m\u001b[1;31m:\u001b[0m invalid syntax\n"
     ]
    }
   ],
   "source": [
    "# define fucntion fspecial(shape = disk)\n",
    "def fspecial_disk(radius):\n",
    "    rad   = radius\n",
    "    crad  = math.ceil(rad-0.5)\n",
    "    x = np.arange(-crad, crad + 1)\n",
    "    y = np.arange(-crad, crad + 1)\n",
    "    xx,yy = np.meshgrid(x, y, sparse = True)\n",
    "    \n",
    "    print(xx)\n",
    "    print(yy)\n",
    "\n",
    "    maxxy = np.maximum(np.absolute(xx),np.absolute(yy))\n",
    "    minxy = np.minimum(np.absolute(xx),np.absolute(yy))\n",
    "    print(maxxy)\n",
    "    print(minxy)\n",
    "    \n",
    "    m1 = (rad**2 <  (maxxy+0.5)**2 + (minxy-0.5)**2)*(minxy-0.5) + (rad**2 >= (maxxy+0.5)**2 + (minxy-0.5)**2)*sqrt(rad**2 - (maxxy + 0.5)**2)\n",
    "    m2 = (rad**2 >  (maxxy-0.5)**2 + (minxy+0.5)**2)*(minxy+0.5) + (rad**2 <= (maxxy-0.5)**2 + (minxy+0.5)**2)*sqrt(rad**2 - (maxxy - 0.5)**2)\n",
    "#     mask = disk(radius)\n",
    "\n",
    "#     kernel = np.zeros(((int)(2*radius+1), (int)(2*radius+1)))\n",
    "#     y, x = np.ogrid[-radius:radius+1, -radius:radius+1]\n",
    "#     mask = x**2 + y**2 <= radius**2\n",
    "#     kernel[mask] = 1                \n",
    "    \n",
    "#     disk = disk[:, :, None]\n",
    "#     misc.imsave(examples_path + 'distorted_lblur_mask' + str(radius) + '.bmp', mask)\n",
    "#     print(mask)\n",
    "#     return mask\n",
    "    \n",
    "def imblurlens(image, r):\n",
    "    \n",
    "    disk = fspecial_disk(r)\n",
    "    ims = []\n",
    "    for d in range(3):\n",
    "#         im_conv_d = mean(image[:,:,d], disk)\n",
    "        im_conv_d = ndimage.filters.convolve(image[:,:,d], disk, mode='nearest')\n",
    "        ims.append(im_conv_d)\n",
    "\n",
    "    im_conv = np.stack(ims, axis=2).astype(\"uint8\")\n",
    "\n",
    "    return im_conv\n",
    "\n",
    "#     blur = ndimage.correlate(image, disk, mode='nearest').transpose()\n",
    "#     blur = ndimage.filters.convolve(image, disk, mode='nearest')\n",
    "#     return blur\n",
    "    \n"
   ]
  },
  {
   "cell_type": "code",
   "execution_count": 107,
   "metadata": {},
   "outputs": [
    {
     "name": "stderr",
     "output_type": "stream",
     "text": [
      "C:\\Users\\FIGARO\\Anaconda3\\lib\\site-packages\\ipykernel_launcher.py:24: DeprecationWarning: `imread` is deprecated!\n",
      "`imread` is deprecated in SciPy 1.0.0.\n",
      "Use ``matplotlib.pyplot.imread`` instead.\n"
     ]
    }
   ],
   "source": [
    "# read images names\n",
    "basepath = 'ref_img/'\n",
    "examples_path = 'results1/'\n",
    "examples_path1 = 'results_scipy/'\n",
    "# read and display original image\n",
    "image = skimage.io.imread(fname=basepath + 'I01.BMP')\n",
    "\n",
    "image = mapmm(image)\n",
    "\n",
    "# viewer = ImageViewer(image)\n",
    "# viewer.show()\n",
    "\n",
    "if not os.path.exists(examples_path):\n",
    "    # if not exist, make directory\n",
    "    os.makedirs(examples_path)\n",
    "    \n",
    "if not os.path.exists(examples_path1):\n",
    "    # if not exist, make directory\n",
    "    os.makedirs(examples_path1)\n",
    "    \n",
    "    \n",
    "skimage.io.imsave(examples_path + 'distorted_gblur_equ' + '.bmp', image)\n",
    "\n",
    "im = ndimage.imread(basepath + 'I01.BMP')\n",
    "im = mapmm(im)\n"
   ]
  },
  {
   "cell_type": "code",
   "execution_count": 108,
   "metadata": {},
   "outputs": [],
   "source": [
    "# #1 gaussian blur\n",
    "\n",
    "levels = [0.1, 0.2, 0.5, 0.7, 1, 1.5, 2, 3, 5]\n",
    "for i in range(len(levels)):\n",
    "    distort_I = imblurgauss(image, levels[i]);\n",
    "    distort_I = mapmm(distort_I)\n",
    "    skimage.io.imsave(examples_path + 'distorted_gblur_' + str(i+1) + '.bmp', distort_I)"
   ]
  },
  {
   "cell_type": "code",
   "execution_count": 109,
   "metadata": {},
   "outputs": [],
   "source": [
    "# levels = [0.1, 0.2, 0.5, 0.7, 1, 1.5, 2, 3, 5]\n",
    "# for i in range(len(levels)):\n",
    "#     im1 = ndimage.gaussian_filter(im, sigma=levels[i], truncate=2.0, mode='nearest')\n",
    "#     misc.imsave(examples_path1 + 'distorted_gblur_' + str(i+1) + '.bmp', im1)"
   ]
  },
  {
   "cell_type": "code",
   "execution_count": 110,
   "metadata": {},
   "outputs": [
    {
     "name": "stdout",
     "output_type": "stream",
     "text": [
      "[[-1  0  1]]\n",
      "[[-1]\n",
      " [ 0]\n",
      " [ 1]]\n",
      "[[1 1 1]\n",
      " [1 0 1]\n",
      " [1 1 1]]\n",
      "[[1 0 1]\n",
      " [0 0 0]\n",
      " [1 0 1]]\n"
     ]
    },
    {
     "ename": "RuntimeError",
     "evalue": "filter weights array has incorrect shape.",
     "output_type": "error",
     "traceback": [
      "\u001b[1;31m---------------------------------------------------------------------------\u001b[0m",
      "\u001b[1;31mRuntimeError\u001b[0m                              Traceback (most recent call last)",
      "\u001b[1;32m<ipython-input-110-cbebca1d2e77>\u001b[0m in \u001b[0;36m<module>\u001b[1;34m\u001b[0m\n\u001b[0;32m      2\u001b[0m \u001b[0mlevels\u001b[0m \u001b[1;33m=\u001b[0m \u001b[1;33m[\u001b[0m\u001b[1;36m1\u001b[0m\u001b[1;33m,\u001b[0m \u001b[1;36m1.5\u001b[0m\u001b[1;33m,\u001b[0m \u001b[1;36m2\u001b[0m\u001b[1;33m,\u001b[0m \u001b[1;36m3\u001b[0m\u001b[1;33m,\u001b[0m \u001b[1;36m4\u001b[0m\u001b[1;33m,\u001b[0m \u001b[1;36m5\u001b[0m\u001b[1;33m,\u001b[0m \u001b[1;36m6\u001b[0m\u001b[1;33m,\u001b[0m \u001b[1;36m7\u001b[0m\u001b[1;33m,\u001b[0m \u001b[1;36m8\u001b[0m\u001b[1;33m]\u001b[0m\u001b[1;33m\u001b[0m\u001b[1;33m\u001b[0m\u001b[0m\n\u001b[0;32m      3\u001b[0m \u001b[1;32mfor\u001b[0m \u001b[0mi\u001b[0m \u001b[1;32min\u001b[0m \u001b[0mrange\u001b[0m\u001b[1;33m(\u001b[0m\u001b[0mlen\u001b[0m\u001b[1;33m(\u001b[0m\u001b[0mlevels\u001b[0m\u001b[1;33m)\u001b[0m\u001b[1;33m)\u001b[0m\u001b[1;33m:\u001b[0m\u001b[1;33m\u001b[0m\u001b[1;33m\u001b[0m\u001b[0m\n\u001b[1;32m----> 4\u001b[1;33m     \u001b[0mdistort_I\u001b[0m \u001b[1;33m=\u001b[0m \u001b[0mimblurlens\u001b[0m\u001b[1;33m(\u001b[0m\u001b[0mim\u001b[0m\u001b[1;33m,\u001b[0m \u001b[0mlevels\u001b[0m\u001b[1;33m[\u001b[0m\u001b[0mi\u001b[0m\u001b[1;33m]\u001b[0m\u001b[1;33m)\u001b[0m\u001b[1;33m\u001b[0m\u001b[1;33m\u001b[0m\u001b[0m\n\u001b[0m\u001b[0;32m      5\u001b[0m     \u001b[0mdistort_I\u001b[0m \u001b[1;33m=\u001b[0m \u001b[0mmapmm\u001b[0m\u001b[1;33m(\u001b[0m\u001b[0mdistort_I\u001b[0m\u001b[1;33m)\u001b[0m\u001b[1;33m\u001b[0m\u001b[1;33m\u001b[0m\u001b[0m\n\u001b[0;32m      6\u001b[0m     \u001b[0mmisc\u001b[0m\u001b[1;33m.\u001b[0m\u001b[0mimsave\u001b[0m\u001b[1;33m(\u001b[0m\u001b[0mexamples_path\u001b[0m \u001b[1;33m+\u001b[0m \u001b[1;34m'distorted_lblur_'\u001b[0m \u001b[1;33m+\u001b[0m \u001b[0mstr\u001b[0m\u001b[1;33m(\u001b[0m\u001b[0mi\u001b[0m\u001b[1;33m+\u001b[0m\u001b[1;36m1\u001b[0m\u001b[1;33m)\u001b[0m \u001b[1;33m+\u001b[0m \u001b[1;34m'.bmp'\u001b[0m\u001b[1;33m,\u001b[0m \u001b[0mdistort_I\u001b[0m\u001b[1;33m)\u001b[0m\u001b[1;33m\u001b[0m\u001b[1;33m\u001b[0m\u001b[0m\n",
      "\u001b[1;32m<ipython-input-106-489482d11f36>\u001b[0m in \u001b[0;36mimblurlens\u001b[1;34m(image, r)\u001b[0m\n\u001b[0;32m     32\u001b[0m     \u001b[1;32mfor\u001b[0m \u001b[0md\u001b[0m \u001b[1;32min\u001b[0m \u001b[0mrange\u001b[0m\u001b[1;33m(\u001b[0m\u001b[1;36m3\u001b[0m\u001b[1;33m)\u001b[0m\u001b[1;33m:\u001b[0m\u001b[1;33m\u001b[0m\u001b[1;33m\u001b[0m\u001b[0m\n\u001b[0;32m     33\u001b[0m \u001b[1;31m#         im_conv_d = mean(image[:,:,d], disk)\u001b[0m\u001b[1;33m\u001b[0m\u001b[1;33m\u001b[0m\u001b[1;33m\u001b[0m\u001b[0m\n\u001b[1;32m---> 34\u001b[1;33m         \u001b[0mim_conv_d\u001b[0m \u001b[1;33m=\u001b[0m \u001b[0mndimage\u001b[0m\u001b[1;33m.\u001b[0m\u001b[0mfilters\u001b[0m\u001b[1;33m.\u001b[0m\u001b[0mconvolve\u001b[0m\u001b[1;33m(\u001b[0m\u001b[0mimage\u001b[0m\u001b[1;33m[\u001b[0m\u001b[1;33m:\u001b[0m\u001b[1;33m,\u001b[0m\u001b[1;33m:\u001b[0m\u001b[1;33m,\u001b[0m\u001b[0md\u001b[0m\u001b[1;33m]\u001b[0m\u001b[1;33m,\u001b[0m \u001b[0mdisk\u001b[0m\u001b[1;33m,\u001b[0m \u001b[0mmode\u001b[0m\u001b[1;33m=\u001b[0m\u001b[1;34m'nearest'\u001b[0m\u001b[1;33m)\u001b[0m\u001b[1;33m\u001b[0m\u001b[1;33m\u001b[0m\u001b[0m\n\u001b[0m\u001b[0;32m     35\u001b[0m         \u001b[0mims\u001b[0m\u001b[1;33m.\u001b[0m\u001b[0mappend\u001b[0m\u001b[1;33m(\u001b[0m\u001b[0mim_conv_d\u001b[0m\u001b[1;33m)\u001b[0m\u001b[1;33m\u001b[0m\u001b[1;33m\u001b[0m\u001b[0m\n\u001b[0;32m     36\u001b[0m \u001b[1;33m\u001b[0m\u001b[0m\n",
      "\u001b[1;32m~\\Anaconda3\\lib\\site-packages\\scipy\\ndimage\\filters.py\u001b[0m in \u001b[0;36mconvolve\u001b[1;34m(input, weights, output, mode, cval, origin)\u001b[0m\n\u001b[0;32m    743\u001b[0m     \"\"\"\n\u001b[0;32m    744\u001b[0m     return _correlate_or_convolve(input, weights, output, mode, cval,\n\u001b[1;32m--> 745\u001b[1;33m                                   origin, True)\n\u001b[0m\u001b[0;32m    746\u001b[0m \u001b[1;33m\u001b[0m\u001b[0m\n\u001b[0;32m    747\u001b[0m \u001b[1;33m\u001b[0m\u001b[0m\n",
      "\u001b[1;32m~\\Anaconda3\\lib\\site-packages\\scipy\\ndimage\\filters.py\u001b[0m in \u001b[0;36m_correlate_or_convolve\u001b[1;34m(input, weights, output, mode, cval, origin, convolution)\u001b[0m\n\u001b[0;32m    593\u001b[0m     \u001b[0mwshape\u001b[0m \u001b[1;33m=\u001b[0m \u001b[1;33m[\u001b[0m\u001b[0mii\u001b[0m \u001b[1;32mfor\u001b[0m \u001b[0mii\u001b[0m \u001b[1;32min\u001b[0m \u001b[0mweights\u001b[0m\u001b[1;33m.\u001b[0m\u001b[0mshape\u001b[0m \u001b[1;32mif\u001b[0m \u001b[0mii\u001b[0m \u001b[1;33m>\u001b[0m \u001b[1;36m0\u001b[0m\u001b[1;33m]\u001b[0m\u001b[1;33m\u001b[0m\u001b[1;33m\u001b[0m\u001b[0m\n\u001b[0;32m    594\u001b[0m     \u001b[1;32mif\u001b[0m \u001b[0mlen\u001b[0m\u001b[1;33m(\u001b[0m\u001b[0mwshape\u001b[0m\u001b[1;33m)\u001b[0m \u001b[1;33m!=\u001b[0m \u001b[0minput\u001b[0m\u001b[1;33m.\u001b[0m\u001b[0mndim\u001b[0m\u001b[1;33m:\u001b[0m\u001b[1;33m\u001b[0m\u001b[1;33m\u001b[0m\u001b[0m\n\u001b[1;32m--> 595\u001b[1;33m         \u001b[1;32mraise\u001b[0m \u001b[0mRuntimeError\u001b[0m\u001b[1;33m(\u001b[0m\u001b[1;34m'filter weights array has incorrect shape.'\u001b[0m\u001b[1;33m)\u001b[0m\u001b[1;33m\u001b[0m\u001b[1;33m\u001b[0m\u001b[0m\n\u001b[0m\u001b[0;32m    596\u001b[0m     \u001b[1;32mif\u001b[0m \u001b[0mconvolution\u001b[0m\u001b[1;33m:\u001b[0m\u001b[1;33m\u001b[0m\u001b[1;33m\u001b[0m\u001b[0m\n\u001b[0;32m    597\u001b[0m         \u001b[0mweights\u001b[0m \u001b[1;33m=\u001b[0m \u001b[0mweights\u001b[0m\u001b[1;33m[\u001b[0m\u001b[0mtuple\u001b[0m\u001b[1;33m(\u001b[0m\u001b[1;33m[\u001b[0m\u001b[0mslice\u001b[0m\u001b[1;33m(\u001b[0m\u001b[1;32mNone\u001b[0m\u001b[1;33m,\u001b[0m \u001b[1;32mNone\u001b[0m\u001b[1;33m,\u001b[0m \u001b[1;33m-\u001b[0m\u001b[1;36m1\u001b[0m\u001b[1;33m)\u001b[0m\u001b[1;33m]\u001b[0m \u001b[1;33m*\u001b[0m \u001b[0mweights\u001b[0m\u001b[1;33m.\u001b[0m\u001b[0mndim\u001b[0m\u001b[1;33m)\u001b[0m\u001b[1;33m]\u001b[0m\u001b[1;33m\u001b[0m\u001b[1;33m\u001b[0m\u001b[0m\n",
      "\u001b[1;31mRuntimeError\u001b[0m: filter weights array has incorrect shape."
     ]
    }
   ],
   "source": [
    "# #2 lens blur\n",
    "levels = [1, 1.5, 2, 3, 4, 5, 6, 7, 8]\n",
    "for i in range(len(levels)):\n",
    "    distort_I = imblurlens(im, levels[i])\n",
    "    distort_I = mapmm(distort_I)\n",
    "    misc.imsave(examples_path + 'distorted_lblur_' + str(i+1) + '.bmp', distort_I)\n",
    "#     skimage.io.imsave(examples_path + 'distorted_lblur_' + str(i+1) + '.bmp', distort_I)\n",
    "\n"
   ]
  },
  {
   "cell_type": "code",
   "execution_count": null,
   "metadata": {},
   "outputs": [],
   "source": []
  },
  {
   "cell_type": "code",
   "execution_count": null,
   "metadata": {},
   "outputs": [],
   "source": []
  }
 ],
 "metadata": {
  "kernelspec": {
   "display_name": "Python 3",
   "language": "python",
   "name": "python3"
  },
  "language_info": {
   "codemirror_mode": {
    "name": "ipython",
    "version": 3
   },
   "file_extension": ".py",
   "mimetype": "text/x-python",
   "name": "python",
   "nbconvert_exporter": "python",
   "pygments_lexer": "ipython3",
   "version": "3.7.3"
  }
 },
 "nbformat": 4,
 "nbformat_minor": 2
}
