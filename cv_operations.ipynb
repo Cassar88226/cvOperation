{
 "cells": [
  {
   "cell_type": "markdown",
   "metadata": {},
   "outputs": [],
   "source": [
    "Import the library"
   ]
  },
  {
   "cell_type": "code",
   "execution_count": 8,
   "metadata": {},
   "outputs": [],
   "source": [
    "import os\n",
    "import math\n",
    "import skimage\n",
    "import imageio\n",
    "\n",
    "import skimage.filters as skfilters\n",
    "import matplotlib.pyplot as plt\n",
    "\n",
    "from scipy import ndimage\n",
    "from scipy.signal import convolve2d\n",
    "from scipy import misc\n",
    "import numpy as np\n",
    "\n",
    "import fspecial"
   ]
  },
  {
   "cell_type": "markdown",
   "metadata": {},
   "outputs": [],
   "source": [
    "define function mapmm"
   ]
  },
  {
   "cell_type": "code",
   "execution_count": 9,
   "metadata": {},
   "outputs": [],
   "source": [
    "def mapmm(image):\n",
    "    # Equalization\n",
    "    fimage = skimage.img_as_float(image)\n",
    "    mina = 0.0\n",
    "    maxa = 1.0\n",
    "    minx = np.amin(fimage)\n",
    "    maxx = np.amax(fimage)\n",
    "    \n",
    "    fimage = (fimage - minx) / (maxx-minx) * (maxa-mina) + mina\n",
    "\n",
    "    return fimage\n"
   ]
  },
  {
   "cell_type": "markdown",
   "metadata": {},
   "outputs": [],
   "source": [
    "1: define functioin imblurgauss"
   ]
  },
  {
   "cell_type": "code",
   "execution_count": 10,
   "metadata": {},
   "outputs": [],
   "source": [
    "def imblurgauss(image, s):\n",
    "    blurgauss = skfilters.gaussian(image, sigma=s,mode = 'nearest',truncate=2.0, multichannel=True)\n",
    "    return blurgauss"
   ]
  },
  {
   "cell_type": "markdown",
   "metadata": {},
   "outputs": [],
   "source": [
    "2: define function imblurlens"
   ]
  },
  {
   "cell_type": "code",
   "execution_count": 11,
   "metadata": {},
   "outputs": [],
   "source": [
    "\n",
    "def imblurlens(image, r):\n",
    "    \n",
    "    disk = fspecial.fspecial('disk', r)\n",
    "    ims = []\n",
    "    for d in range(3):\n",
    "        im_conv_d = convolve2d(image[:,:,d], disk, mode='same', boundary='fill')\n",
    "        \n",
    "        ims.append(im_conv_d)\n",
    "\n",
    "    im_conv = np.stack(ims, axis=2).astype(\"float64\")\n",
    "\n",
    "    return im_conv\n",
    "\n",
    "    "
   ]
  },
  {
   "cell_type": "code",
   "execution_count": 12,
   "metadata": {},
   "outputs": [],
   "source": [
    "# read images names\n",
    "basepath = 'ref_img/'\n",
    "examples_path = 'results1/'\n",
    "\n",
    "# read and display original image\n",
    "image = skimage.io.imread(fname=basepath + 'I01.BMP')\n",
    "\n",
    "image = mapmm(image)\n",
    "\n",
    "# viewer = ImageViewer(image)\n",
    "# viewer.show()\n",
    "\n",
    "if not os.path.exists(examples_path):\n",
    "    # if not exist, make directory\n",
    "    os.makedirs(examples_path)\n",
    "\n",
    "im = plt.imread(basepath + 'I01.BMP')\n",
    "# im = ndimage.imread(basepath + 'I01.BMP')\n",
    "im = mapmm(im)\n"
   ]
  },
  {
   "cell_type": "code",
   "execution_count": 13,
   "metadata": {},
   "outputs": [
    {
     "name": "stderr",
     "output_type": "stream",
     "text": "Lossy conversion from float64 to uint8. Range [0, 1]. Convert image to uint8 prior to saving to suppress this warning.\nLossy conversion from float64 to uint8. Range [0, 1]. Convert image to uint8 prior to saving to suppress this warning.\nLossy conversion from float64 to uint8. Range [0, 1]. Convert image to uint8 prior to saving to suppress this warning.\nLossy conversion from float64 to uint8. Range [0, 1]. Convert image to uint8 prior to saving to suppress this warning.\nLossy conversion from float64 to uint8. Range [0, 1]. Convert image to uint8 prior to saving to suppress this warning.\nLossy conversion from float64 to uint8. Range [0, 1]. Convert image to uint8 prior to saving to suppress this warning.\nLossy conversion from float64 to uint8. Range [0, 1]. Convert image to uint8 prior to saving to suppress this warning.\nLossy conversion from float64 to uint8. Range [0, 1]. Convert image to uint8 prior to saving to suppress this warning.\nLossy conversion from float64 to uint8. Range [0, 1]. Convert image to uint8 prior to saving to suppress this warning.\n"
    }
   ],
   "source": [
    "# #1 gaussian blur\n",
    "\n",
    "levels = [0.1, 0.2, 0.5, 0.7, 1, 1.5, 2, 3, 5]\n",
    "for i in range(len(levels)):\n",
    "    distort_I = imblurgauss(image, levels[i]);\n",
    "    distort_I = mapmm(distort_I)\n",
    "#     data = 255 * distort_I\n",
    "#     distort_I = data.astype(np.uint8)\n",
    "    imageio.imwrite(examples_path + 'distorted_gblur_' + str(i+1) + '.bmp', distort_I)"
   ]
  },
  {
   "cell_type": "code",
   "execution_count": 14,
   "metadata": {},
   "outputs": [
    {
     "name": "stderr",
     "output_type": "stream",
     "text": "Lossy conversion from float64 to uint8. Range [0, 1]. Convert image to uint8 prior to saving to suppress this warning.\nLossy conversion from float64 to uint8. Range [0, 1]. Convert image to uint8 prior to saving to suppress this warning.\nLossy conversion from float64 to uint8. Range [0, 1]. Convert image to uint8 prior to saving to suppress this warning.\nLossy conversion from float64 to uint8. Range [0, 1]. Convert image to uint8 prior to saving to suppress this warning.\nLossy conversion from float64 to uint8. Range [0, 1]. Convert image to uint8 prior to saving to suppress this warning.\nLossy conversion from float64 to uint8. Range [0, 1]. Convert image to uint8 prior to saving to suppress this warning.\nLossy conversion from float64 to uint8. Range [0, 1]. Convert image to uint8 prior to saving to suppress this warning.\nLossy conversion from float64 to uint8. Range [0, 1]. Convert image to uint8 prior to saving to suppress this warning.\nLossy conversion from float64 to uint8. Range [0, 1]. Convert image to uint8 prior to saving to suppress this warning.\nLossy conversion from float64 to uint8. Range [0, 1]. Convert image to uint8 prior to saving to suppress this warning.\n"
    }
   ],
   "source": [
    "# #2 lens blur\n",
    "levels = [0.5, 1, 1.5, 2, 3, 4, 5, 6, 7, 8]\n",
    "for i in range(len(levels)):\n",
    "    distort_I = imblurlens(im, levels[i])\n",
    "    distort_I = mapmm(distort_I)\n",
    "#     data = 255 * distort_I\n",
    "#     distort_I = data.astype(np.uint8)\n",
    "    imageio.imwrite(examples_path + 'distorted_lblur_' + str(i+1) + '.bmp', distort_I)\n",
    "\n"
   ]
  },
  {
   "cell_type": "code",
   "metadata": {},
   "outputs": [],
   "source": []
  }
 ],
 "metadata": {
  "kernelspec": {
   "display_name": "Python 3",
   "language": "python",
   "name": "python3"
  },
  "language_info": {
   "codemirror_mode": {
    "name": "ipython",
    "version": 3
   },
   "file_extension": ".py",
   "mimetype": "text/x-python",
   "name": "python",
   "nbconvert_exporter": "python",
   "pygments_lexer": "ipython3",
   "version": "3.7.3"
  }
 },
 "nbformat": 4,
 "nbformat_minor": 2
}