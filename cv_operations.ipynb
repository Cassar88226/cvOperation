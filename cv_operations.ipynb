{
 "cells": [
  {
   "cell_type": "markdown",
   "metadata": {},
   "source": [
    "Import the library"
   ]
  },
  {
   "cell_type": "code",
   "execution_count": null,
   "metadata": {},
   "outputs": [],
   "source": [
    "import os\n",
    "import math\n",
    "import skimage\n",
    "import imageio\n",
    "\n",
    "import skimage.filters as skfilters\n",
    "import matplotlib.pyplot as plt\n",
    "\n",
    "from scipy import ndimage\n",
    "from scipy.signal import convolve2d\n",
    "from scipy import misc\n",
    "import numpy as np"
   ]
  },
  {
   "cell_type": "markdown",
   "metadata": {},
   "source": [
    "define function mapmm"
   ]
  },
  {
   "cell_type": "code",
   "execution_count": null,
   "metadata": {},
   "outputs": [],
   "source": [
    "def mapmm(image):\n",
    "    # Equalization\n",
    "    fimage = skimage.img_as_float(image)\n",
    "    mina = 0.0\n",
    "    maxa = 1.0\n",
    "    minx = np.amin(fimage)\n",
    "    maxx = np.amax(fimage)\n",
    "    \n",
    "    fimage = (fimage - minx) / (maxx-minx) * (maxa-mina) + mina\n",
    "\n",
    "    return fimage\n"
   ]
  },
  {
   "cell_type": "markdown",
   "metadata": {},
   "source": [
    "1: define functioin imblurgauss"
   ]
  },
  {
   "cell_type": "code",
   "execution_count": null,
   "metadata": {},
   "outputs": [],
   "source": [
    "def imblurgauss(image, s):\n",
    "    blurgauss = skfilters.gaussian(image, sigma=s,mode = 'nearest',truncate=2.0, multichannel=True)\n",
    "    return blurgauss"
   ]
  },
  {
   "cell_type": "markdown",
   "metadata": {},
   "source": [
    "2: define function imblurlens"
   ]
  },
  {
   "cell_type": "code",
   "execution_count": null,
   "metadata": {},
   "outputs": [],
   "source": [
    "# define fucntion fspecial(shape = disk)\n",
    "def fspecial_disk(radius):\n",
    "    rad   = radius\n",
    "    crad  = math.ceil(rad-0.5)\n",
    "    x = np.arange(-crad, crad + 1)\n",
    "    y = np.arange(-crad, crad + 1)\n",
    "    xx,yy = np.meshgrid(x, y, sparse = True)\n",
    "    \n",
    "\n",
    "\n",
    "    maxxy = np.maximum(np.absolute(xx),np.absolute(yy))\n",
    "    minxy = np.minimum(np.absolute(xx),np.absolute(yy))\n",
    "\n",
    "    a = (rad**2 <  (maxxy+0.5)**2 + (minxy-0.5)**2) \n",
    "    b = (rad**2 >= (maxxy+0.5)**2 + (minxy-0.5)**2)    \n",
    "    m1 = (a * 1 * (minxy-0.5) + b * 1 *np.sqrt((rad**2 - np.square(maxxy + 0.5)).astype(complex))).real\n",
    "    \n",
    "    a1 = (rad**2 >  (maxxy-0.5)**2 + (minxy+0.5)**2)\n",
    "    b1 = (rad**2 <= (maxxy-0.5)**2 + (minxy+0.5)**2)    \n",
    "    m2 = (a1 * 1 * (minxy+0.5) + b1 * 1 * np.sqrt((rad**2 - np.square(maxxy - 0.5)).astype(complex))).real\n",
    "\n",
    "    \n",
    "    a2 = (rad**2 <  (maxxy+0.5)**2 + (minxy+0.5)**2) \n",
    "    b2 = (rad**2 >= (maxxy-0.5)**2 + (minxy-0.5)**2)\n",
    "#     sgrid = (rad^2*(0.5*(asin(m2/rad) - asin(m1/rad)) + ...\n",
    "#             0.25*(sin(2*asin(m2/rad)) - sin(2*asin(m1/rad)))) - ...\n",
    "#             (maxxy-0.5).*(m2-m1) + (m1-minxy+0.5)) ...\n",
    "#             .*((((rad^2 < (maxxy+0.5).^2 + (minxy+0.5).^2) & ...\n",
    "#             (rad^2 > (maxxy-0.5).^2 + (minxy-0.5).^2)) | ...\n",
    "#             ((minxy==0)&(maxxy-0.5 < rad)&(maxxy+0.5>=rad))));\n",
    "    f1 = (0.5*(np.arcsin(m2/rad) - np.arcsin(m1/rad)) + 0.25*(np.sin(2*np.arcsin(m2/rad)) - np.sin(2*np.arcsin(m1/rad))))\n",
    "    first = (rad**2*f1 - (maxxy-0.5)*(m2-m1) + (m1-minxy+0.5))\n",
    "    second = (((a2 & b2) | ((minxy==0)&(maxxy-0.5 < rad)&(maxxy+0.5>=rad))))\n",
    "\n",
    "    sgrid = second * 1 * first\n",
    "    \n",
    "    a3 = (rad**2 >  (maxxy+0.5)**2 + (minxy+0.5)**2)\n",
    "\n",
    "    sgrid = sgrid + a3 * 1    \n",
    "    sgrid[crad,crad] = min(np.pi*rad**2,np.pi/2);\n",
    "    \n",
    "    \n",
    "    if ((crad>0) and (rad > crad-0.5) and (rad**2 < (crad-0.5)**2+0.25)):\n",
    "        \n",
    "        m1  = sqrt(rad**2 - (crad - 0.5)**2)\n",
    "        m1n = m1/rad\n",
    "        sg0 = 2*(rad**2*(0.5*np.arcsin(m1n) + 0.25*np.sin(2*np.arcsin(m1n)))-m1*(crad-0.5))\n",
    "        sgrid[2*crad,crad]     = sg0\n",
    "        sgrid[crad,2*crad]     = sg0\n",
    "        sgrid[crad,0]          = sg0\n",
    "        sgrid[0,crad]          = sg0\n",
    "        sgrid[2*crad-1,crad]   = sgrid(2*crad-1,crad) - sg0\n",
    "        sgrid[crad,2*crad-1]   = sgrid(crad,2*crad-1) - sg0\n",
    "        sgrid[crad,1]          = sgrid(crad,1)        - sg0\n",
    "        sgrid[1,crad]          = sgrid(1,crad)        - sg0\n",
    "    \n",
    "    \n",
    "    sgrid[crad,crad] = min(sgrid[crad,crad],1);\n",
    "    \n",
    "    h = sgrid/np.sum(sgrid);\n",
    "    return h\n",
    "\n",
    "\n",
    "    \n",
    "def imblurlens(image, r):\n",
    "    \n",
    "    disk = fspecial_disk(r)\n",
    "    ims = []\n",
    "    for d in range(3):\n",
    "        im_conv_d = convolve2d(image[:,:,d], disk, mode='same', boundary='fill')\n",
    "        \n",
    "        ims.append(im_conv_d)\n",
    "\n",
    "    im_conv = np.stack(ims, axis=2).astype(\"float64\")\n",
    "\n",
    "    return im_conv\n",
    "\n",
    "    "
   ]
  },
  {
   "cell_type": "code",
   "execution_count": null,
   "metadata": {},
   "outputs": [],
   "source": [
    "# read images names\n",
    "basepath = 'ref_img/'\n",
    "examples_path = 'results1/'\n",
    "\n",
    "# read and display original image\n",
    "image = skimage.io.imread(fname=basepath + 'I01.BMP')\n",
    "\n",
    "image = mapmm(image)\n",
    "\n",
    "# viewer = ImageViewer(image)\n",
    "# viewer.show()\n",
    "\n",
    "if not os.path.exists(examples_path):\n",
    "    # if not exist, make directory\n",
    "    os.makedirs(examples_path)\n",
    "\n",
    "im = plt.imread(basepath + 'I01.BMP')\n",
    "# im = ndimage.imread(basepath + 'I01.BMP')\n",
    "im = mapmm(im)\n"
   ]
  },
  {
   "cell_type": "code",
   "execution_count": null,
   "metadata": {},
   "outputs": [],
   "source": [
    "# #1 gaussian blur\n",
    "\n",
    "levels = [0.1, 0.2, 0.5, 0.7, 1, 1.5, 2, 3, 5]\n",
    "for i in range(len(levels)):\n",
    "    distort_I = imblurgauss(image, levels[i]);\n",
    "    distort_I = mapmm(distort_I)\n",
    "#     data = 255 * distort_I\n",
    "#     distort_I = data.astype(np.uint8)\n",
    "    imageio.imwrite(examples_path + 'distorted_gblur_' + str(i+1) + '.bmp', distort_I)"
   ]
  },
  {
   "cell_type": "code",
   "execution_count": null,
   "metadata": {},
   "outputs": [],
   "source": [
    "# #2 lens blur\n",
    "levels = [0.5, 1, 1.5, 2, 3, 4, 5, 6, 7, 8]\n",
    "for i in range(len(levels)):\n",
    "    distort_I = imblurlens(im, levels[i])\n",
    "    distort_I = mapmm(distort_I)\n",
    "#     data = 255 * distort_I\n",
    "#     distort_I = data.astype(np.uint8)\n",
    "    imageio.imwrite(examples_path + 'distorted_lblur_' + str(i+1) + '.bmp', distort_I)\n",
    "\n"
   ]
  },
  {
   "cell_type": "code",
   "execution_count": null,
   "metadata": {},
   "outputs": [],
   "source": []
  }
 ],
 "metadata": {
  "kernelspec": {
   "display_name": "Python 3",
   "language": "python",
   "name": "python3"
  },
  "language_info": {
   "codemirror_mode": {
    "name": "ipython",
    "version": 3
   },
   "file_extension": ".py",
   "mimetype": "text/x-python",
   "name": "python",
   "nbconvert_exporter": "python",
   "pygments_lexer": "ipython3",
   "version": "3.7.3"
  }
 },
 "nbformat": 4,
 "nbformat_minor": 2
}
