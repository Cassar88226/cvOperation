{
 "cells": [
  {
   "cell_type": "markdown",
   "metadata": {},
   "source": [
    "Import the library"
   ]
  },
  {
   "cell_type": "code",
   "execution_count": 1,
   "metadata": {},
   "outputs": [
    {
     "name": "stderr",
     "output_type": "stream",
     "text": [
      "C:\\Users\\FIGARO\\Anaconda3\\lib\\site-packages\\dask\\config.py:168: YAMLLoadWarning: calling yaml.load() without Loader=... is deprecated, as the default Loader is unsafe. Please read https://msg.pyyaml.org/load for full details.\n",
      "  data = yaml.load(f.read()) or {}\n",
      "C:\\Users\\FIGARO\\Anaconda3\\lib\\site-packages\\skimage\\viewer\\utils\\core.py:10: UserWarning: Recommended matplotlib backend is `Agg` for full skimage.viewer functionality.\n",
      "  warn(\"Recommended matplotlib backend is `Agg` for full \"\n"
     ]
    }
   ],
   "source": [
    "import os\n",
    "import cv2\n",
    "import skimage\n",
    "import skimage.data\n",
    "import skimage.morphology\n",
    "import skimage.filters as skfilters\n",
    "from skimage.viewer import ImageViewer"
   ]
  },
  {
   "cell_type": "markdown",
   "metadata": {},
   "source": [
    "1 define functioin imblurlens"
   ]
  },
  {
   "cell_type": "code",
   "execution_count": 14,
   "metadata": {},
   "outputs": [],
   "source": [
    "def imblurgauss(image, s):\n",
    "    blurgauss = skfilters.gaussian(image, sigma=s,mode = 'nearest',truncate=2.0, multichannel=True)\n",
    "    return blurgauss"
   ]
  },
  {
   "cell_type": "code",
   "execution_count": 15,
   "metadata": {},
   "outputs": [],
   "source": [
    "# read images names\n",
    "basepath = 'ref_img/'\n",
    "examples_path = 'results1/'\n",
    "\n",
    "# read and display original image\n",
    "image = skimage.io.imread(fname=basepath + 'I01.BMP')\n",
    "# viewer = ImageViewer(image)\n",
    "# viewer.show()\n",
    "\n",
    "if not os.path.exists(examples_path):\n",
    "    # if not exist, make directory\n",
    "    os.makedirs(examples_path)\n"
   ]
  },
  {
   "cell_type": "code",
   "execution_count": 16,
   "metadata": {},
   "outputs": [],
   "source": [
    "# #1 gaussian blur\n",
    "\n",
    "levels = [0.1, 0.2, 0.5, 0.7, 1, 1.5, 2, 3, 5]\n",
    "for i in range(len(levels)):\n",
    "    distort_I = imblurgauss(image, levels[i]);\n",
    "    skimage.io.imsave(examples_path + 'distorted_gblur_' + str(i+1) + '.bmp', distort_I)"
   ]
  },
  {
   "cell_type": "code",
   "execution_count": null,
   "metadata": {},
   "outputs": [],
   "source": []
  }
 ],
 "metadata": {
  "kernelspec": {
   "display_name": "Python 3",
   "language": "python",
   "name": "python3"
  },
  "language_info": {
   "codemirror_mode": {
    "name": "ipython",
    "version": 3
   },
   "file_extension": ".py",
   "mimetype": "text/x-python",
   "name": "python",
   "nbconvert_exporter": "python",
   "pygments_lexer": "ipython3",
   "version": "3.7.3"
  }
 },
 "nbformat": 4,
 "nbformat_minor": 2
}
